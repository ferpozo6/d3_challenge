{
 "cells": [
  {
   "cell_type": "markdown",
   "metadata": {},
   "source": [
    "# D3 Challenge"
   ]
  },
  {
   "cell_type": "markdown",
   "metadata": {},
   "source": [
    "This script is oriented to obtain the results for the D3 Challenge. The main goal is to find the best docked pose for 10 different ligands for an apoprotein called Farnesoid X Receptor (FXR)."
   ]
  },
  {
   "cell_type": "markdown",
   "metadata": {},
   "source": [
    "## 1. Importing modules"
   ]
  },
  {
   "cell_type": "code",
   "execution_count": 1,
   "metadata": {},
   "outputs": [
    {
     "name": "stdout",
     "output_type": "stream",
     "text": [
      "ffevaluate module is in beta version\n"
     ]
    },
    {
     "name": "stderr",
     "output_type": "stream",
     "text": [
      "/local/fpozoc/miniconda3/envs/dock/lib/python3.6/site-packages/pyemma/util/log.py:65: YAMLLoadWarning: calling yaml.load() without Loader=... is deprecated, as the default Loader is unsafe. Please read https://msg.pyyaml.org/load for full details.\n",
      "  D = yaml.load(f2)\n"
     ]
    },
    {
     "name": "stdout",
     "output_type": "stream",
     "text": [
      "\n",
      "Please cite HTMD: Doerr et al.(2016)JCTC,12,1845. \n",
      "https://dx.doi.org/10.1021/acs.jctc.6b00049\n",
      "Documentation: http://software.acellera.com/\n",
      "\n",
      "You are on the latest HTMD version (1.15.2).\n",
      "\n"
     ]
    },
    {
     "name": "stderr",
     "output_type": "stream",
     "text": [
      "2019-08-08 15:02:16,955 - htmd.molecule.util - WARNING - Please do not import from htmd.molecule.util. This will be deprecated. Use moleculekit.util instead or moleculekit.dihedral for the dihedral functionality.\n"
     ]
    }
   ],
   "source": [
    "import os\n",
    "from htmd.ui import *\n",
    "from subprocess import *\n",
    "from htmd.molecule.util import maxDistance\n",
    "from htmd.builder.charmm import defaultParam, defaultTopo\n",
    "from src.rdock.rdock import *\n",
    "from src.obabel.babel import *\n",
    "from src.parameterize.parameterize import *"
   ]
  },
  {
   "cell_type": "code",
   "execution_count": 2,
   "metadata": {},
   "outputs": [],
   "source": [
    "#htmd.config(viewer='ngl')"
   ]
  },
  {
   "cell_type": "markdown",
   "metadata": {},
   "source": [
    "## 2. Defining functions"
   ]
  },
  {
   "cell_type": "markdown",
   "metadata": {},
   "source": [
    "This first function \"dockAllCenters\" runs docking of a given protein and ligand for all provided centers."
   ]
  },
  {
   "cell_type": "code",
   "execution_count": 3,
   "metadata": {},
   "outputs": [],
   "source": [
    "def dockAllCentersAutoDock(prot, ligand, centers):\n",
    "    poses = []\n",
    "    scores = []\n",
    "    \n",
    "    for i, center in enumerate(centers):\n",
    "        currentCenterPoses, currentCenterScoring = dock(prot, ligand, center=center, extent=[ 15., 15., 15. ])\n",
    "        poses.append(currentCenterPoses)\n",
    "        scores.append(currentCenterScoring)\n",
    "        \n",
    "        print(\"Finished docking \" + str(i+1) + \"/\" + str(len(centers)))\n",
    "        \n",
    "    return poses, scores"
   ]
  },
  {
   "cell_type": "code",
   "execution_count": 4,
   "metadata": {},
   "outputs": [],
   "source": [
    "def dockAllCentersRdock(protFile, ligandName, centers):\n",
    "    poses = []\n",
    "    scores = []\n",
    "    \n",
    "    for i, center in enumerate(centers):\n",
    "        rd = RDock()\n",
    "        rd.set_radius(8)\n",
    "        rd.set_protein(protFile) # MOL2 !!\n",
    "        rd.set_ligand(ligandName) # SD !!\n",
    "        rd.set_nposes(50)\n",
    "        rd.set_center(center)\n",
    "        \n",
    "        rd.run_docking()\n",
    "        \n",
    "        currentCenterPose, currentCenterScoring = rd.get_best_pose()\n",
    "        \n",
    "        poses.append(currentCenterPose)\n",
    "        scores.append(currentCenterScoring)\n",
    "        \n",
    "        print(currentCenterScoring)\n",
    "        print(len(rd.docked_poses))\n",
    "        print(\"Finished docking \" + str(i+1) + \"/\" + str(len(centers)))\n",
    "        \n",
    "    return poses, scores"
   ]
  },
  {
   "cell_type": "markdown",
   "metadata": {},
   "source": [
    "This function \"buildSystemWithPose\" is going to build a system for a given pose obtained from the previous function. It requires a paramFolder to define where the parameters are placed. "
   ]
  },
  {
   "cell_type": "code",
   "execution_count": 5,
   "metadata": {},
   "outputs": [],
   "source": [
    "def buildSystemWithPose(prot, pose, systemId, paramFolder, ligandName=\"MOL\"):\n",
    "    # prepare protein\n",
    "    prot = proteinPrepare(prot)\n",
    "    prot.set('segid', 'P', sel='protein')\n",
    "    prot.set('segid', 'W', sel='water')\n",
    "    \n",
    "    # prepare ligand (pose)\n",
    "    pose.set('segid','L')\n",
    "    pose.set('resname', ligandName) \n",
    "    \n",
    "    mol = Molecule(name='combo')\n",
    "    mol.append(prot)\n",
    "    mol.append(pose)\n",
    "    mol.center()\n",
    "    \n",
    "    # distance + extra\n",
    "    D = maxDistance(mol, 'all') + 10\n",
    "    \n",
    "    # solvate\n",
    "    smol = solvate(mol, minmax=[[-D, -D, -D], [D, D, D]])\n",
    "    \n",
    "    # build system    \n",
    "    param = defaultParam()\n",
    "    #It takes the name of the files by default, so do not change them\n",
    "    param.append(paramFolder + \"mol.prm\")\n",
    "\n",
    "    topo = defaultTopo()\n",
    "    topo.append(paramFolder + \"mol.rtf\")\n",
    "    \n",
    "    bmol = charmm.build(smol, param=param, topo=topo, outdir=\"build-{}\".format(systemId))\n",
    "    \n",
    "    return bmol"
   ]
  },
  {
   "cell_type": "markdown",
   "metadata": {},
   "source": [
    "## 3. Docking"
   ]
  },
  {
   "cell_type": "markdown",
   "metadata": {},
   "source": [
    "Loading protein in pdb format:"
   ]
  },
  {
   "cell_type": "code",
   "execution_count": 6,
   "metadata": {},
   "outputs": [
    {
     "name": "stderr",
     "output_type": "stream",
     "text": [
      "/local/fpozoc/miniconda3/envs/dock/lib/python3.6/site-packages/pyemma/__init__.py:91: UserWarning: You are not using the latest release of PyEMMA. Latest is 2.5.6, you have 2.4.\n",
      "  .format(latest=latest, current=current), category=UserWarning)\n",
      "2019-08-08 15:02:17,175 - moleculekit.molecule - WARNING - Alternative atom locations detected. Only altloc A was kept. If you prefer to keep all use the keepaltloc=\"all\" option when reading the file.\n",
      "2019-08-08 15:02:17,178 - moleculekit.molecule - INFO - Removed 15 atoms. 2054 atoms remaining in the molecule.\n"
     ]
    }
   ],
   "source": [
    "prot = Molecule('project_data/FXR_APO_structure_D3R_GC2.pdb')\n",
    "prot.view()"
   ]
  },
  {
   "cell_type": "markdown",
   "metadata": {},
   "source": [
    "Load all ligands in mol2 format:"
   ]
  },
  {
   "cell_type": "code",
   "execution_count": 7,
   "metadata": {},
   "outputs": [],
   "source": [
    "ligands = []\n",
    "ligandCount = 10\n",
    "for i in range(ligandCount):\n",
    "    fname = \"project_data/ligand_FXR_{}.sdf.mol2\".format(i+1)\n",
    "    ligands.append([Molecule(fname), fname])\n",
    "    \n",
    "ligands[0][0].view()"
   ]
  },
  {
   "cell_type": "markdown",
   "metadata": {},
   "source": [
    "Defining binding pocket centers extracted with DeepSite (in playmolecule):"
   ]
  },
  {
   "cell_type": "code",
   "execution_count": 8,
   "metadata": {},
   "outputs": [],
   "source": [
    "centers = [[43.9, 9.9, 3.2],\n",
    "           [29.9, 7.9, 7.2],\n",
    "           [25.9, 3.9, -2.8],\n",
    "           [21.9, 3.9, -12.8],\n",
    "           [29.9, 19.9, -0.8]]"
   ]
  },
  {
   "cell_type": "markdown",
   "metadata": {},
   "source": [
    "Now, we will define the output that we would like to obtain."
   ]
  },
  {
   "cell_type": "code",
   "execution_count": 9,
   "metadata": {},
   "outputs": [],
   "source": [
    "saveAllProtLigandToFile = True #True to save all the poses and proteins in a pdb file.\n",
    "saveBestPosesToFile = True #True to save only the best pose in a pdb file.\n",
    "\n",
    "# write csv header if saving to file\n",
    "scoresFile = None\n",
    "if saveBestPosesToFile: \n",
    "    scoresFile = open('ligand_scores.csv','w+')\n",
    "    scoresFile.write(\"kcal1,rmsd_lb1,rmsd_ub1,rdock_score\\n\")"
   ]
  },
  {
   "cell_type": "markdown",
   "metadata": {},
   "source": [
    "Once we defined all the previous variables now we are going to run the docking."
   ]
  },
  {
   "cell_type": "code",
   "execution_count": 10,
   "metadata": {},
   "outputs": [],
   "source": [
    "if not os.path.exists(\"allposes/autodock\"):\n",
    "    os.makedirs(\"allposes/autodock\")\n",
    "if not os.path.exists(\"allposes/rdock\"):\n",
    "    os.makedirs(\"allposes/rdock\")"
   ]
  },
  {
   "cell_type": "code",
   "execution_count": null,
   "metadata": {},
   "outputs": [
    {
     "name": "stderr",
     "output_type": "stream",
     "text": [
      "2019-08-08 15:02:59,325 - htmd.dock - INFO - Charges detected in ligand and will be used for docking.\n"
     ]
    },
    {
     "name": "stdout",
     "output_type": "stream",
     "text": [
      "Finished docking 1/5\n"
     ]
    },
    {
     "name": "stderr",
     "output_type": "stream",
     "text": [
      "2019-08-08 15:04:00,558 - htmd.dock - INFO - Charges detected in ligand and will be used for docking.\n"
     ]
    },
    {
     "name": "stdout",
     "output_type": "stream",
     "text": [
      "Finished docking 2/5\n"
     ]
    },
    {
     "name": "stderr",
     "output_type": "stream",
     "text": [
      "2019-08-08 15:05:17,863 - htmd.dock - INFO - Charges detected in ligand and will be used for docking.\n"
     ]
    },
    {
     "name": "stdout",
     "output_type": "stream",
     "text": [
      "Finished docking 3/5\n"
     ]
    },
    {
     "name": "stderr",
     "output_type": "stream",
     "text": [
      "2019-08-08 15:06:53,697 - htmd.dock - INFO - Charges detected in ligand and will be used for docking.\n"
     ]
    },
    {
     "name": "stdout",
     "output_type": "stream",
     "text": [
      "Finished docking 4/5\n"
     ]
    },
    {
     "name": "stderr",
     "output_type": "stream",
     "text": [
      "2019-08-08 15:08:32,200 - htmd.dock - INFO - Charges detected in ligand and will be used for docking.\n"
     ]
    }
   ],
   "source": [
    "for l, ligand in enumerate(ligands): \n",
    "    #Defining variables\n",
    "    bestKcalPoseAutoDock, bestPoseRdock = None, None\n",
    "    bestKcalScoresAutoDock, bestScoreRdock = [float(\"inf\")]*3, float(\"inf\")\n",
    "    \n",
    " \n",
    "    #Here we will run a docking for every ligand and every\n",
    "    \n",
    "    #Docking with Autodock VINA\n",
    "    poses, scores = dockAllCentersAutoDock(prot, ligand[0], centers)\n",
    "    for i, poseListPerCenter in enumerate(poses):\n",
    "        for j, pose in enumerate(poseListPerCenter):\n",
    "            if saveAllProtLigandToFile:\n",
    "                mol = Molecule()\n",
    "                mol.append(prot)\n",
    "                mol.append(pose)\n",
    "                mol.write(\"allposes/autodock/combo_ligand_{}_center_{}_pose_{}_autodock.pdb\".format(l+1, i+1, j+1))\n",
    "                \n",
    "            if scores[i][j][0] < bestKcalScoresAutoDock[0]:\n",
    "                bestKcalScoresAutoDock = scores[i][j]\n",
    "                bestKcalPoseAutoDock = pose\n",
    "                \n",
    "    \n",
    "    #If we select this option we will save the best pose in a file in mol2 format.\n",
    "    if saveBestPosesToFile:\n",
    "        # write pdb files\n",
    "        bestKcalPoseAutoDock.write(\"selected_autodock_{}.mol2\".format(l+1))\n",
    "        \n",
    "        # and csv with scores\n",
    "        # format:\n",
    "        # kcal1, rmsd_lb1, rmsd_ub1, kcal2, rmsd_lb2, rmsd_ub2\n",
    "        # where 1 is the pose selected by best kcal and 2 is the pose selected by best rmsd        \n",
    "        allScores = []\n",
    "        allScores.extend(bestKcalScoresAutoDock)\n",
    "\n",
    "        scoresFile.write(','.join(map(str, allScores))+\"\\n\")    \n",
    "        \n",
    "    #bmol = buildSystemWithPose(prot, bestKcalPose, \"project_data/param-ligand_FXR_1.sdf/parameters/CGenFF_2b6/b3lyp-cc-pVDZ-water/\")\n",
    "    #bmol.view(viewer='vmd')\n",
    "    \n",
    "    #tmpMol = bmol\n",
    "    #tmpBestPose = bestKcalPose\n",
    "    \n",
    "if saveBestPosesToFile:\n",
    "    scoresFile.close()"
   ]
  },
  {
   "cell_type": "code",
   "execution_count": null,
   "metadata": {},
   "outputs": [],
   "source": [
    "for l, ligand in enumerate(ligands): \n",
    "    #Defining variables\n",
    "    bestKcalPoseAutoDock, bestPoseRdock = None, None\n",
    "    bestKcalScoresAutoDock, bestScoreRdock = [float(\"inf\")]*3, float(\"inf\")\n",
    "    \n",
    " \n",
    "    #Here we will run a docking for every ligand and every\n",
    "    \n",
    "    #Docking with Autodock VINA\n",
    "    poses, scores = dockAllCentersAutoDock(prot, ligand[0], centers)\n",
    "    for i, poseListPerCenter in enumerate(poses):\n",
    "        for j, pose in enumerate(poseListPerCenter):\n",
    "            if saveAllProtLigandToFile:\n",
    "                mol = Molecule()\n",
    "                mol.append(prot)\n",
    "                mol.append(pose)\n",
    "                mol.write(\"allposes/autodock/combo_ligand_{}_center_{}_pose_{}_autodock.pdb\".format(l+1, i+1, j+1))\n",
    "                \n",
    "            if scores[i][j][0] < bestKcalScoresAutoDock[0]:\n",
    "                bestKcalScoresAutoDock = scores[i][j]\n",
    "                bestKcalPoseAutoDock = pose\n",
    "                \n",
    "    #After that we are going to do a docking with RDOCK. RDOCK needs proteins in .mol2 and ligands in .sd\n",
    "    #For this reason, we will convert the files using babel(called from python)\n",
    "    \n",
    "    bb = Babel()\n",
    "    bb.set_input_file(ligand[1])\n",
    "    \n",
    "    output_sd = '.'.join(ligand[1].split(\".\")[:-1]) + \".sd\"\n",
    "    bb.set_output_file(output_sd)\n",
    "    \n",
    "    bb.protonate(True)\n",
    "    bb.run()\n",
    "    \n",
    "    #Docking with RDOCK\n",
    "    poses, scores = dockAllCentersRdock('project_data/FXR_APO_structure_D3R_GC2.mol2', output_sd, centers)\n",
    "    for i, pose in enumerate(poses):\n",
    "        if saveAllProtLigandToFile:\n",
    "            mol = Molecule()\n",
    "            mol.append(prot)\n",
    "            mol.append(pose)\n",
    "            mol.write(\"allposes/rdock/combo_ligand_{}_center_{}_pose_1_rdock.pdb\".format(l+1, i+1))\n",
    "        \n",
    "        if scores[i] < bestScoreRdock:\n",
    "            bestScoreRdock = scores[i]\n",
    "            bestPoseRdock = pose\n",
    "    \n",
    "    #If we select this option we will save the best pose in a file in mol2 format.\n",
    "    if saveBestPosesToFile:\n",
    "        # write pdb files\n",
    "        bestKcalPoseAutoDock.write(\"selected_autodock_{}.mol2\".format(l+1))\n",
    "        bestPoseRdock.write(\"selected_rdock_{}.mol2\".format(l+1))\n",
    "        \n",
    "        # and csv with scores\n",
    "        # format:\n",
    "        # kcal1, rmsd_lb1, rmsd_ub1, kcal2, rmsd_lb2, rmsd_ub2\n",
    "        # where 1 is the pose selected by best kcal and 2 is the pose selected by best rmsd        \n",
    "        allScores = []\n",
    "        allScores.extend(bestKcalScoresAutoDock)\n",
    "        allScores.extend([bestScoreRdock])\n",
    "\n",
    "        scoresFile.write(','.join(map(str, allScores))+\"\\n\")    \n",
    "        \n",
    "    #bmol = buildSystemWithPose(prot, bestKcalPose, \"project_data/param-ligand_FXR_1.sdf/parameters/CGenFF_2b6/b3lyp-cc-pVDZ-water/\")\n",
    "    #bmol.view(viewer='vmd')\n",
    "    \n",
    "    #tmpMol = bmol\n",
    "    #tmpBestPose = bestKcalPose\n",
    "    \n",
    "if saveBestPosesToFile:\n",
    "    scoresFile.close()"
   ]
  },
  {
   "cell_type": "markdown",
   "metadata": {},
   "source": [
    "## 4. Building protein-ligand system"
   ]
  },
  {
   "cell_type": "markdown",
   "metadata": {},
   "source": [
    "Once we have the results of the docking we are going to build a system protein-ligand with the best poses obtained from the previous algorithms. "
   ]
  },
  {
   "cell_type": "code",
   "execution_count": null,
   "metadata": {},
   "outputs": [],
   "source": [
    "#creation of parameters for the build process calling parameterize commands\n",
    "builds = []\n",
    "for i in range(ligandCount):\n",
    "    name_ad = \"selected_autodock_{}.mol2\".format(i+1)\n",
    "    name_rd = \"selected_rdock_{}.mol2\".format(i+1)\n",
    "    \n",
    "    # protonate rdock pose\n",
    "    bb = Babel()\n",
    "    bb.set_input_file(name_rd)\n",
    "    bb.set_output_file(name_rd)\n",
    "    \n",
    "    bb.protonate(True)\n",
    "    bb.run()\n",
    "    \n",
    "    # parameterize autodock pose\n",
    "    pr = Parameterize()\n",
    "    pr.set_input(name_ad)\n",
    "    pr.set_output(\"./params-ad-{}\".format(i+1))\n",
    "    pr.no_esp()\n",
    "    pr.no_torsions()\n",
    "    pr.no_min()\n",
    "    pr.run()\n",
    "    \n",
    "    # parameterize rdock pose\n",
    "    pr.set_input(name_rd)\n",
    "    pr.set_output(\"./params-rd-{}\".format(i+1))\n",
    "    pr.run()\n",
    "    \n",
    "    folderAd = \"params-ad-{}/parameters/CGenFF_2b6/b3lyp-cc-pVDZ-water/\".format(i+1)\n",
    "    folderRd = \"params-rd-{}/parameters/CGenFF_2b6/b3lyp-cc-pVDZ-water/\".format(i+1)\n",
    "    \n",
    "    lad = Molecule(folderAd + \"mol.mol2\")\n",
    "    lrd = Molecule(folderRd + \"mol.mol2\")\n",
    "    \n",
    "    # running the Charmm building for the best poses using the function buildSystemWithPose    \n",
    "    builds.append(buildSystemWithPose(prot, lad, \"ad-{}\".format(i+1), folderAd))\n",
    "    builds.append(buildSystemWithPose(prot, lrd, \"rd-{}\".format(i+1), folderRd))"
   ]
  },
  {
   "cell_type": "markdown",
   "metadata": {},
   "source": [
    "## 5. Simulation"
   ]
  },
  {
   "cell_type": "markdown",
   "metadata": {},
   "source": [
    "After generating all the files needed the next step will be run a simulation for the poses produced on the previous steps in order to analyse their stability.\n",
    "\n",
    "The first step is running an equilibration of 40 ns with a temperature of 300."
   ]
  },
  {
   "cell_type": "code",
   "execution_count": null,
   "metadata": {},
   "outputs": [],
   "source": [
    "from htmd.protocols.equilibration_v2 import Equilibration\n",
    "\n",
    "#setting parameters for the equilibration\n",
    "md = Equilibration()\n",
    "md.runtime = 40\n",
    "md.timeunits = 'ns'\n",
    "md.temperature = 300\n",
    "md.useconstantratio = False\n",
    "\n",
    "local = LocalGPUQueue()\n",
    "\n",
    "#run the equilibration for each build folder created before\n",
    "for i, b in enumerate(builds):\n",
    "    md.write('./build-{}/'.format(i+1), './equil/{}/'.format(i+1))\n",
    "    local.submit('./equil/{}/'.format(i+1))\n",
    "                 \n",
    "local.wait()"
   ]
  },
  {
   "cell_type": "markdown",
   "metadata": {},
   "source": [
    "Then, we should run a production of 60 ns with a temperature of 300. "
   ]
  },
  {
   "cell_type": "code",
   "execution_count": null,
   "metadata": {},
   "outputs": [],
   "source": [
    "from htmd.protocols.production_v4 import Production\n",
    "#setting parameters for the production\n",
    "md = Production()\n",
    "md.runtime = 60\n",
    "md.timeunits = 'ns'\n",
    "md.temperature = 300\n",
    "md.acemd.bincoordinates = 'output.coor'\n",
    "md.acemd.extendedsystem = 'output.xsc'\n",
    "\n",
    "local = LocalGPUQueue()\n",
    "\n",
    "#run a production for each equilibration folder created before\n",
    "for i, b in enumerate(builds):\n",
    "    md.write('./equil/{}/'.format(i+1), './prod/{}/'.format(i+1))\n",
    "    local.submit('./prod/{}/'.format(i+1))\n",
    "                 \n",
    "local.wait()"
   ]
  },
  {
   "cell_type": "markdown",
   "metadata": {},
   "source": [
    "Following all the previous process we will have one single trajectory for each best-pose obtained for each ligand (and also for each algorithm tested) in the docking. In case we wanted to analyse the stability of the ligand it will be interesting to repeat these simulations in order to obtain more trajectories to be able to have enough data. "
   ]
  }
 ],
 "metadata": {
  "kernelspec": {
   "display_name": "Python 3",
   "language": "python",
   "name": "python3"
  },
  "language_info": {
   "codemirror_mode": {
    "name": "ipython",
    "version": 3
   },
   "file_extension": ".py",
   "mimetype": "text/x-python",
   "name": "python",
   "nbconvert_exporter": "python",
   "pygments_lexer": "ipython3",
   "version": "3.6.9"
  }
 },
 "nbformat": 4,
 "nbformat_minor": 4
}
