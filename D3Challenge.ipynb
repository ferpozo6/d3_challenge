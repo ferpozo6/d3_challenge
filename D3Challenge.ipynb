{
 "cells": [
  {
   "cell_type": "code",
   "execution_count": 1,
   "metadata": {},
   "outputs": [
    {
     "name": "stdout",
     "output_type": "stream",
     "text": [
      "\n",
      "Please cite HTMD: Doerr et al.(2016)JCTC,12,1845. https://dx.doi.org/10.1021/acs.jctc.6b00049\n",
      "\n",
      "HTMD Documentation at: https://www.htmd.org/docs/latest/\n",
      "\n",
      "New devel HTMD version (1.7.34 python[==3.6,==3.5]) is available. You are currently on (1.7.33). Use 'conda update -c acellera htmd' to update to the new version. You might need to update your python version as well if there is no release for your current version.\n",
      "\n"
     ]
    }
   ],
   "source": [
    "from htmd import *\n",
    "from htmd.molecule.util import maxDistance\n",
    "from htmd.builder.charmm import defaultParam, defaultTopo\n",
    "\n",
    "htmd.config(viewer='ngl')"
   ]
  },
  {
   "cell_type": "code",
   "execution_count": 2,
   "metadata": {
    "collapsed": true
   },
   "outputs": [],
   "source": [
    "# dockAllCenters runs docking of a given protein and ligand for all provided centers\n",
    "def dockAllCenters(prot, ligand, centers):\n",
    "    poses = []\n",
    "    scores = []\n",
    "    \n",
    "    for i, center in enumerate(centers):\n",
    "        currentCenterPoses, currentCenterScoring = dock(prot, ligand, center=center, extent=[ 15., 15., 15. ])\n",
    "        poses.append(currentCenterPoses)\n",
    "        scores.append(currentCenterScoring)\n",
    "        \n",
    "        print(\"Finished docking \" + str(i+1) + \"/\" + str(len(centers)))\n",
    "        \n",
    "    return poses, scores"
   ]
  },
  {
   "cell_type": "code",
   "execution_count": 3,
   "metadata": {
    "collapsed": true
   },
   "outputs": [],
   "source": [
    "def buildSystemWithPose(prot, pose, paramFolder, ligandName=\"MOL\"):\n",
    "    # prepare protein\n",
    "    prot = proteinPrepare(prot)\n",
    "    prot.set('segid', 'P', sel='protein')\n",
    "    prot.set('segid', 'W', sel='water')\n",
    "    \n",
    "    # prepare ligand (pose)\n",
    "    pose.set('segid','L')\n",
    "    pose.set('resname', ligandName) \n",
    "    \n",
    "    mol = Molecule(name='combo')\n",
    "    mol.append(prot)\n",
    "    mol.append(pose)\n",
    "    mol.center()\n",
    "    \n",
    "    # distance + extra\n",
    "    D = maxDistance(mol, 'all') + 10\n",
    "    \n",
    "    # solvate\n",
    "    smol = solvate(mol, minmax=[[-D, -D, -D], [D, D, D]])\n",
    "    \n",
    "    # build system    \n",
    "    param = defaultParam()\n",
    "    param.append(paramFolder + \"mol.prm\")\n",
    "\n",
    "    topo = defaultTopo()\n",
    "    topo.append(paramFolder + \"mol.rtf\")\n",
    "    \n",
    "    bmol = charmm.build(smol, param=param, topo=topo)\n",
    "    \n",
    "    return bmol"
   ]
  },
  {
   "cell_type": "code",
   "execution_count": 4,
   "metadata": {},
   "outputs": [
    {
     "data": {
      "application/vnd.jupyter.widget-view+json": {
       "model_id": "fd2fc6cd4f4242cab9429f7c869f6119"
      }
     },
     "metadata": {},
     "output_type": "display_data"
    }
   ],
   "source": [
    "# load protein in pdb format\n",
    "prot = Molecule('project_data/FXR_APO_structure_D3R_GC2.pdb')\n",
    "prot.view()"
   ]
  },
  {
   "cell_type": "code",
   "execution_count": 5,
   "metadata": {},
   "outputs": [
    {
     "data": {
      "application/vnd.jupyter.widget-view+json": {
       "model_id": "1dcdbdd3f1cc4713ad76a7829b68fec0"
      }
     },
     "metadata": {},
     "output_type": "display_data"
    }
   ],
   "source": [
    "# load all ligands in mol2 format\n",
    "ligands = []\n",
    "ligands.append(Molecule(\"project_data/ligand_FXR_1.sdf.mol2\"))\n",
    "ligands[0].view()"
   ]
  },
  {
   "cell_type": "code",
   "execution_count": 6,
   "metadata": {
    "collapsed": true
   },
   "outputs": [],
   "source": [
    "# binding pocket centers extracted with DeepSite (in playmolecule)\n",
    "centers = [[43.9, 9.9, 3.2]  ]#,\n",
    "           #[29.9, 7.9, 7.2],\n",
    "           #[25.9, 3.9, -2.8],\n",
    "           #[21.9, 3.9, -12.8],\n",
    "           #[29.9, 19.9, -0.8]]"
   ]
  },
  {
   "cell_type": "code",
   "execution_count": 7,
   "metadata": {},
   "outputs": [
    {
     "name": "stdout",
     "output_type": "stream",
     "text": [
      "Finished docking 1/1\n"
     ]
    }
   ],
   "source": [
    "saveAllProtLigandToFile = True\n",
    "saveBestPosesToFile = True\n",
    "\n",
    "# write csv header if saving to file\n",
    "scoresFile = None\n",
    "if saveBestPosesToFile:\n",
    "    scoresFile = open('ligand_scores.csv','w+')\n",
    "    scoresFile.write(\"kcal1,rmsd_lb1,rmsd_ub1,kcal2,rmsd_lb2,rmsd_ub2\\n\")\n",
    "\n",
    "for l, ligand in enumerate(ligands):\n",
    "    bestRmsdPose, bestKcalPose = None, None\n",
    "    bestRmsdScores, bestKcalScores = [float(\"inf\")]*3, [float(\"inf\")]*3\n",
    "    \n",
    "    poses, scores = dockAllCenters(prot, ligand, centers)\n",
    "    for i, poseListPerCenter in enumerate(poses):\n",
    "        for j, pose in enumerate(poseListPerCenter):\n",
    "            if saveAllProtLigandToFile:\n",
    "                mol = Molecule()\n",
    "                mol.append(prot)\n",
    "                mol.append(pose)\n",
    "                mol.write(\"ligand_{}_center_{}_pose_{}.pdb\".format(l+1, i+1, j+1))\n",
    "                #mol.write(\"ligand_\" + str(l+1) + \"_center_\" + str(i+1) + \"_pose_\" + str(j+1) + \".pdb\")\n",
    "                \n",
    "            if scores[i][j][0] < bestKcalScores[0]:\n",
    "                bestKcalScores = scores[i][j]\n",
    "                bestKcalPose = pose\n",
    "            \n",
    "            if scores[i][j][2] < bestRmsdScores[2]:\n",
    "                bestRmsdScores = scores[i][j]\n",
    "                bestRmsdPose = pose\n",
    "                \n",
    "    \n",
    "\n",
    "    if saveBestPosesToFile:\n",
    "        # write pdb files\n",
    "        bestKcalPose.write(\"selected_kcal_ligand_{}.mol2\".format(l+1))\n",
    "        bestRmsdPose.write(\"selected_rmsd_ligand_{}.mol2\".format(l+1))\n",
    "        #bestKcalPose.write(\"selected_kcal_ligand_\" + str(l+1) + \".pdb\")\n",
    "        #bestRmsdPose.write(\"selected_rmsd_ligand_\" + str(l+1) + \".pdb\")\n",
    "        \n",
    "        # and csv with scores\n",
    "        # format:\n",
    "        # kcal1, rmsd_lb1, rmsd_ub1, kcal2, rmsd_lb2, rmsd_ub2\n",
    "        # where 1 is the pose selected by best kcal and 2 is the pose selected by best rmsd        \n",
    "        allScores = []\n",
    "        allScores.extend(bestKcalScores)\n",
    "        allScores.extend(bestRmsdScores)\n",
    "\n",
    "        scoresFile.write(','.join(map(str, allScores))+\"\\n\")    \n",
    "        \n",
    "    #bmol = buildSystemWithPose(prot, bestKcalPose, \"project_data/param-ligand_FXR_1.sdf/parameters/CGenFF_2b6/b3lyp-cc-pVDZ-water/\")\n",
    "    #bmol.view(viewer='vmd')\n",
    "    \n",
    "    #tmpMol = bmol\n",
    "    #tmpBestPose = bestKcalPose\n",
    "    \n",
    "if saveBestPosesToFile:\n",
    "    scoresFile.close()"
   ]
  },
  {
   "cell_type": "markdown",
   "metadata": {},
   "source": [
    "# Zona de testing"
   ]
  },
  {
   "cell_type": "code",
   "execution_count": 21,
   "metadata": {},
   "outputs": [
    {
     "data": {
      "text/plain": [
       "[1, 2, 3, 4, 5, 6]"
      ]
     },
     "execution_count": 21,
     "metadata": {},
     "output_type": "execute_result"
    }
   ],
   "source": [
    "#tmpMol.view()\n",
    "[1,2,3] + [4,5,6]"
   ]
  },
  {
   "cell_type": "markdown",
   "metadata": {},
   "source": [
    "## Build system"
   ]
  },
  {
   "cell_type": "code",
   "execution_count": 8,
   "metadata": {},
   "outputs": [
    {
     "name": "stderr",
     "output_type": "stream",
     "text": [
      "2017-06-16 01:01:55,177 - propka - INFO - No pdbfile provided\n",
      "2017-06-16 01:02:06,143 - htmd.builder.preparationdata - INFO - The following residues are in a non-standard state: HIS   258  A (HID), HIS   298  A (HID), HIS   317  A (HIP), HIS   348  A (HID), HIS   426  A (HID), HIS   433  A (HIE), HIS   449  A (HID), HIS   450  A (HIE), HIS   451  A (HID), HIS   746  B (HID)\n",
      "2017-06-16 01:02:06,144 - htmd.builder.preparationdata - WARNING - Dubious protonation state: the pKa of 8 residues is within 1.0 units of pH 7.0.\n",
      "2017-06-16 01:02:06,146 - htmd.builder.preparationdata - WARNING - Dubious protonation state:    HIS   258  A (pKa= 6.38)\n",
      "2017-06-16 01:02:06,147 - htmd.builder.preparationdata - WARNING - Dubious protonation state:    HIS   317  A (pKa= 7.61)\n",
      "2017-06-16 01:02:06,147 - htmd.builder.preparationdata - WARNING - Dubious protonation state:    HIS   348  A (pKa= 6.08)\n",
      "2017-06-16 01:02:06,148 - htmd.builder.preparationdata - WARNING - Dubious protonation state:    HIS   426  A (pKa= 6.86)\n",
      "2017-06-16 01:02:06,149 - htmd.builder.preparationdata - WARNING - Dubious protonation state:    HIS   433  A (pKa= 6.71)\n",
      "2017-06-16 01:02:06,150 - htmd.builder.preparationdata - WARNING - Dubious protonation state:    HIS   449  A (pKa= 6.46)\n",
      "2017-06-16 01:02:06,150 - htmd.builder.preparationdata - WARNING - Dubious protonation state:    N+    247T A (pKa= 7.88)\n",
      "2017-06-16 01:02:06,151 - htmd.builder.preparationdata - WARNING - Dubious protonation state:    N+    744T B (pKa= 7.51)\n"
     ]
    }
   ],
   "source": [
    "prot1 = Molecule(\"project_data/FXR_APO_structure_D3R_GC2.pdb\")\n",
    "\n",
    "prot1 = proteinPrepare(prot1)\n",
    "prot1.set('segid', 'P', sel='protein')\n",
    "prot1.set('segid', 'W', sel='water')\n"
   ]
  },
  {
   "cell_type": "code",
   "execution_count": 9,
   "metadata": {},
   "outputs": [
    {
     "data": {
      "application/vnd.jupyter.widget-view+json": {
       "model_id": "c20b4946706449efb85d303057d8826e"
      }
     },
     "metadata": {},
     "output_type": "display_data"
    }
   ],
   "source": [
    "prot1.view()"
   ]
  },
  {
   "cell_type": "code",
   "execution_count": null,
   "metadata": {
    "collapsed": true
   },
   "outputs": [],
   "source": [
    "#D = maxDistance(prot1, 'all')\n",
    "#D"
   ]
  },
  {
   "cell_type": "code",
   "execution_count": 10,
   "metadata": {
    "collapsed": true
   },
   "outputs": [],
   "source": [
    "ligand1 = Molecule(\"selected_kcal_ligand_1.mol2\")\n",
    "ligand1.set('segid','L')\n",
    "ligand1.set('resname', \"MOL\")"
   ]
  },
  {
   "cell_type": "code",
   "execution_count": 11,
   "metadata": {},
   "outputs": [
    {
     "data": {
      "application/vnd.jupyter.widget-view+json": {
       "model_id": "d1d005872d5144acb7f7d4f0e6e4f630"
      }
     },
     "metadata": {},
     "output_type": "display_data"
    }
   ],
   "source": [
    "ligand1.view()"
   ]
  },
  {
   "cell_type": "code",
   "execution_count": 12,
   "metadata": {},
   "outputs": [
    {
     "data": {
      "application/vnd.jupyter.widget-view+json": {
       "model_id": "be87a1162c1a4f5abf457672cbc2813f"
      }
     },
     "metadata": {},
     "output_type": "display_data"
    }
   ],
   "source": [
    "mol = Molecule(name='combo')\n",
    "mol.append(prot1)\n",
    "mol.append(ligand1)\n",
    "mol.center()\n",
    "mol.view()"
   ]
  },
  {
   "cell_type": "code",
   "execution_count": null,
   "metadata": {
    "collapsed": true
   },
   "outputs": [],
   "source": [
    "D = maxDistance(mol, 'all')\n",
    "D"
   ]
  },
  {
   "cell_type": "code",
   "execution_count": null,
   "metadata": {
    "collapsed": true
   },
   "outputs": [],
   "source": [
    "D += 5\n",
    "smol = solvate(mol, minmax=[[-D, -D, -D], [D, D, D]])"
   ]
  },
  {
   "cell_type": "code",
   "execution_count": null,
   "metadata": {
    "collapsed": true
   },
   "outputs": [],
   "source": [
    "smol.view(viewer='vmd')"
   ]
  },
  {
   "cell_type": "code",
   "execution_count": null,
   "metadata": {
    "collapsed": true
   },
   "outputs": [],
   "source": [
    "paramFolder = \"param-ligand_FXR_1.sdf/parameters/CGenFF_2b6/b3lyp-cc-pVDZ-water/\"\n",
    "\n",
    "param = defaultParam()\n",
    "param.append(paramFolder + \"mol.prm\")\n",
    "\n",
    "topo = defaultTopo()\n",
    "topo.append(paramFolder + \"mol.rtf\")"
   ]
  },
  {
   "cell_type": "code",
   "execution_count": null,
   "metadata": {
    "collapsed": true
   },
   "outputs": [],
   "source": [
    "bmol = charmm.build(smol, param=param, topo=topo)"
   ]
  },
  {
   "cell_type": "code",
   "execution_count": null,
   "metadata": {
    "collapsed": true
   },
   "outputs": [],
   "source": []
  }
 ],
 "metadata": {
  "kernelspec": {
   "display_name": "Python 3",
   "language": "python",
   "name": "python3"
  },
  "language_info": {
   "codemirror_mode": {
    "name": "ipython",
    "version": 3
   },
   "file_extension": ".py",
   "mimetype": "text/x-python",
   "name": "python",
   "nbconvert_exporter": "python",
   "pygments_lexer": "ipython3",
   "version": "3.5.3"
  }
 },
 "nbformat": 4,
 "nbformat_minor": 2
}
