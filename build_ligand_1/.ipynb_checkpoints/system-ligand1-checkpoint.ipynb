{
 "cells": [
  {
   "cell_type": "code",
   "execution_count": 1,
   "metadata": {},
   "outputs": [
    {
     "name": "stdout",
     "output_type": "stream",
     "text": [
      "\n",
      "Please cite HTMD: Doerr et al.(2016)JCTC,12,1845. https://dx.doi.org/10.1021/acs.jctc.6b00049\n",
      "\n",
      "HTMD Documentation at: https://www.htmd.org/docs/latest/\n",
      "\n"
     ]
    },
    {
     "name": "stderr",
     "output_type": "stream",
     "text": [
      "Using Anaconda API: https://api.anaconda.org\n"
     ]
    },
    {
     "name": "stdout",
     "output_type": "stream",
     "text": [
      "New devel HTMD version (1.7.35 python[==3.6]) is available. You are currently on (1.7.17). Use 'conda update -c acellera htmd' to update to the new version. You might need to update your python version as well if there is no release for your current version.\n",
      "\n"
     ]
    }
   ],
   "source": [
    "from htmd import *\n",
    "from htmd.molecule.util import maxDistance\n",
    "from htmd.builder.charmm import defaultParam, defaultTopo\n",
    "\n",
    "htmd.config(viewer='ngl')"
   ]
  },
  {
   "cell_type": "code",
   "execution_count": 2,
   "metadata": {},
   "outputs": [
    {
     "name": "stderr",
     "output_type": "stream",
     "text": [
      "The installed widget Javascript is the wrong version.\n"
     ]
    }
   ],
   "source": [
    "prot = Molecule('data/FXR_APO_structure_D3R_GC2.pdb')\n",
    "prot.view()"
   ]
  },
  {
   "cell_type": "code",
   "execution_count": 4,
   "metadata": {
    "collapsed": true
   },
   "outputs": [],
   "source": [
    "ligands = []\n",
    "ligands.append([Molecule('data/selected_kcal_ligand_1.mol2'), \"UNL\"]) # AutoDock VINA best pose\n",
    "ligands.append([Molecule('data/docking_output_1.pdb'), \"UNK\"]) # rDock best pose"
   ]
  },
  {
   "cell_type": "code",
   "execution_count": 5,
   "metadata": {},
   "outputs": [
    {
     "name": "stderr",
     "output_type": "stream",
     "text": [
      "2017-06-19 15:43:39,280 - propka - INFO - No pdbfile provided\n",
      "2017-06-19 15:43:47,680 - htmd.builder.preparationdata - INFO - The following residues are in a non-standard state: HIS   258  A (HID), HIS   298  A (HID), HIS   317  A (HIP), HIS   348  A (HID), HIS   426  A (HID), HIS   433  A (HIE), HIS   449  A (HID), HIS   450  A (HIE), HIS   451  A (HID), HIS   746  B (HID)\n",
      "2017-06-19 15:43:47,681 - htmd.builder.preparationdata - WARNING - Dubious protonation state: the pKa of 8 residues is within 1.0 units of pH 7.0.\n",
      "2017-06-19 15:43:47,684 - htmd.builder.preparationdata - WARNING - Dubious protonation state:    HIS   258  A (pKa= 6.38)\n",
      "2017-06-19 15:43:47,686 - htmd.builder.preparationdata - WARNING - Dubious protonation state:    HIS   317  A (pKa= 7.61)\n",
      "2017-06-19 15:43:47,687 - htmd.builder.preparationdata - WARNING - Dubious protonation state:    HIS   348  A (pKa= 6.08)\n",
      "2017-06-19 15:43:47,689 - htmd.builder.preparationdata - WARNING - Dubious protonation state:    HIS   426  A (pKa= 6.86)\n",
      "2017-06-19 15:43:47,690 - htmd.builder.preparationdata - WARNING - Dubious protonation state:    HIS   433  A (pKa= 6.71)\n",
      "2017-06-19 15:43:47,693 - htmd.builder.preparationdata - WARNING - Dubious protonation state:    HIS   449  A (pKa= 6.46)\n",
      "2017-06-19 15:43:47,694 - htmd.builder.preparationdata - WARNING - Dubious protonation state:    N+    247T A (pKa= 7.88)\n",
      "2017-06-19 15:43:47,696 - htmd.builder.preparationdata - WARNING - Dubious protonation state:    N+    744T B (pKa= 7.51)\n"
     ]
    }
   ],
   "source": [
    "prot = proteinPrepare(prot)\n",
    "prot.set('segid', 'P', sel='protein')\n",
    "prot.set('segid', 'W', sel='water')"
   ]
  },
  {
   "cell_type": "code",
   "execution_count": null,
   "metadata": {
    "collapsed": true
   },
   "outputs": [],
   "source": [
    "builds = []\n",
    "for i, ligandInfo in enumerate(ligands):\n",
    "    ligand = ligandInfo[0]\n",
    "    ligandName = ligandInfo[1]\n",
    "    \n",
    "    ligand.set('segid','L')\n",
    "    ligand.set('resname', ligandName) \n",
    "    \n",
    "    mol = Molecule(name='combo')\n",
    "    mol.append(prot)\n",
    "    mol.append(ligand)\n",
    "    mol.center()\n",
    "    \n",
    "    # distance + extra\n",
    "    D = maxDistance(mol, 'all') + 10\n",
    "    \n",
    "    # solvate\n",
    "    smol = solvate(mol, minmax=[[-D, -D, -D], [D, D, D]])\n",
    "    \n",
    "    # build system    \n",
    "    param = defaultParam()\n",
    "    param.append('param-{}/'.format(i+1) + \"mol.prm\")\n",
    "\n",
    "    topo = defaultTopo()\n",
    "    topo.append('param-{}/'.format(i+1) + \"mol.rtf\")\n",
    "    \n",
    "    builds.append(charmm.build(smol, param=param, topo=topo))"
   ]
  }
 ],
 "metadata": {
  "kernelspec": {
   "display_name": "Python 3",
   "language": "python",
   "name": "python3"
  },
  "language_info": {
   "codemirror_mode": {
    "name": "ipython",
    "version": 3
   },
   "file_extension": ".py",
   "mimetype": "text/x-python",
   "name": "python",
   "nbconvert_exporter": "python",
   "pygments_lexer": "ipython3",
   "version": "3.5.3"
  }
 },
 "nbformat": 4,
 "nbformat_minor": 2
}
