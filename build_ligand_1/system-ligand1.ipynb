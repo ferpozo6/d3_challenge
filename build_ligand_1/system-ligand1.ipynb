{
 "cells": [
  {
   "cell_type": "code",
   "execution_count": 1,
   "metadata": {},
   "outputs": [
    {
     "name": "stdout",
     "output_type": "stream",
     "text": [
      "\n",
      "Please cite HTMD: Doerr et al.(2016)JCTC,12,1845. https://dx.doi.org/10.1021/acs.jctc.6b00049\n",
      "\n",
      "HTMD Documentation at: https://www.htmd.org/docs/latest/\n",
      "\n",
      "New devel HTMD version (1.7.35 python[==3.5,==3.6]) is available. You are currently on (1.7.33). Use 'conda update -c acellera htmd' to update to the new version. You might need to update your python version as well if there is no release for your current version.\n",
      "\n"
     ]
    }
   ],
   "source": [
    "from htmd import *\n",
    "from htmd.molecule.util import maxDistance\n",
    "from htmd.builder.charmm import defaultParam, defaultTopo\n",
    "\n",
    "htmd.config(viewer='ngl')"
   ]
  },
  {
   "cell_type": "code",
   "execution_count": 2,
   "metadata": {},
   "outputs": [
    {
     "name": "stderr",
     "output_type": "stream",
     "text": [
      "The installed widget Javascript is the wrong version.\n"
     ]
    }
   ],
   "source": [
    "prot = Molecule('data/FXR_APO_structure_D3R_GC2.pdb')\n",
    "prot.view()"
   ]
  },
  {
   "cell_type": "code",
   "execution_count": 3,
   "metadata": {
    "collapsed": true
   },
   "outputs": [],
   "source": [
    "ligands = []\n",
    "ligands.append(Molecule('data/param-1/parameters/CGenFF_2b6/b3lyp-cc-pVDZ-water/mol.mol2')) # AutoDock VINA best pose\n",
    "ligands.append(Molecule('data/param-2/parameters/CGenFF_2b6/b3lyp-cc-pVDZ-water/mol.mol2')) # rDock best pose"
   ]
  },
  {
   "cell_type": "code",
   "execution_count": 4,
   "metadata": {},
   "outputs": [
    {
     "name": "stderr",
     "output_type": "stream",
     "text": [
      "2017-06-19 16:44:30,338 - propka - INFO - No pdbfile provided\n",
      "2017-06-19 16:44:39,362 - htmd.builder.preparationdata - INFO - The following residues are in a non-standard state: HIS   258  A (HID), HIS   298  A (HID), HIS   317  A (HIP), HIS   348  A (HID), HIS   426  A (HID), HIS   433  A (HIE), HIS   449  A (HID), HIS   450  A (HIE), HIS   451  A (HID), HIS   746  B (HID)\n",
      "2017-06-19 16:44:39,364 - htmd.builder.preparationdata - WARNING - Dubious protonation state: the pKa of 8 residues is within 1.0 units of pH 7.0.\n",
      "2017-06-19 16:44:39,365 - htmd.builder.preparationdata - WARNING - Dubious protonation state:    HIS   258  A (pKa= 6.38)\n",
      "2017-06-19 16:44:39,366 - htmd.builder.preparationdata - WARNING - Dubious protonation state:    HIS   317  A (pKa= 7.61)\n",
      "2017-06-19 16:44:39,366 - htmd.builder.preparationdata - WARNING - Dubious protonation state:    HIS   348  A (pKa= 6.08)\n",
      "2017-06-19 16:44:39,367 - htmd.builder.preparationdata - WARNING - Dubious protonation state:    HIS   426  A (pKa= 6.86)\n",
      "2017-06-19 16:44:39,368 - htmd.builder.preparationdata - WARNING - Dubious protonation state:    HIS   433  A (pKa= 6.71)\n",
      "2017-06-19 16:44:39,368 - htmd.builder.preparationdata - WARNING - Dubious protonation state:    HIS   449  A (pKa= 6.46)\n",
      "2017-06-19 16:44:39,369 - htmd.builder.preparationdata - WARNING - Dubious protonation state:    N+    247T A (pKa= 7.88)\n",
      "2017-06-19 16:44:39,370 - htmd.builder.preparationdata - WARNING - Dubious protonation state:    N+    744T B (pKa= 7.51)\n"
     ]
    }
   ],
   "source": [
    "prot = proteinPrepare(prot)\n",
    "prot.set('segid', 'P', sel='protein')\n",
    "prot.set('segid', 'W', sel='water')"
   ]
  },
  {
   "cell_type": "code",
   "execution_count": 5,
   "metadata": {},
   "outputs": [
    {
     "name": "stderr",
     "output_type": "stream",
     "text": [
      "2017-06-19 16:44:39,505 - htmd.builder.solvate - INFO - Using water pdb file at: /home/nvk/anaconda3/envs/htmd/lib/python3.5/site-packages/htmd/builder/wat.pdb\n",
      "2017-06-19 16:44:40,207 - htmd.builder.solvate - INFO - Replicating 8 water segments, 2 by 2 by 2\n"
     ]
    },
    {
     "name": "stdout",
     "output_type": "stream",
     "text": [
      "Solvating: 100% (8/8) [############################################] eta 00:01 /\n"
     ]
    },
    {
     "name": "stderr",
     "output_type": "stream",
     "text": [
      "2017-06-19 16:44:49,977 - htmd.builder.solvate - INFO - After removing water molecules colliding with other molecules, 17344 water molecules were added to the system.\n",
      "2017-06-19 16:44:56,300 - htmd.builder.charmm - INFO - Writing out segments.\n",
      "2017-06-19 16:45:15,259 - htmd.builder.builder - INFO - 0 disulfide bonds were added\n",
      "2017-06-19 16:45:15,339 - htmd.builder.charmm - INFO - Starting the build.\n",
      "2017-06-19 16:45:15,724 - htmd.builder.charmm - WARNING - Failed to set coordinates for 17 atoms.\n",
      "2017-06-19 16:45:15,725 - htmd.builder.charmm - WARNING - Failed to guess coordinates for 4 atoms due to bad angles.\n",
      "2017-06-19 16:45:15,725 - htmd.builder.charmm - WARNING - Poorly guessed coordinates for 16 atoms.\n",
      "2017-06-19 16:45:15,726 - htmd.builder.charmm - WARNING - Please check /home/nvk/Dropbox/D3_challenge/ivan/test-docking/build_ligand_1/build-1/log.txt for further information.\n",
      "2017-06-19 16:45:15,727 - htmd.builder.charmm - INFO - Finished building.\n",
      "2017-06-19 16:45:18,051 - htmd.builder.ionize - INFO - Adding 0 anions + 9 cations for neutralizing and 0 ions for the given salt concentration.\n",
      "2017-06-19 16:45:18,323 - htmd.builder.ionize - INFO - Min distance of ions from molecule: 5A\n",
      "2017-06-19 16:45:18,324 - htmd.builder.ionize - INFO - Min distance between ions: 5A\n",
      "2017-06-19 16:45:18,324 - htmd.builder.ionize - INFO - Placing 9 ions.\n",
      "2017-06-19 16:45:27,167 - htmd.builder.charmm - INFO - Writing out segments.\n",
      "2017-06-19 16:45:48,377 - htmd.builder.charmm - INFO - Starting the build.\n",
      "2017-06-19 16:45:48,773 - htmd.builder.charmm - WARNING - Failed to set coordinates for 17 atoms.\n",
      "2017-06-19 16:45:48,773 - htmd.builder.charmm - WARNING - Failed to guess coordinates for 4 atoms due to bad angles.\n",
      "2017-06-19 16:45:48,776 - htmd.builder.charmm - WARNING - Poorly guessed coordinates for 16 atoms.\n",
      "2017-06-19 16:45:48,776 - htmd.builder.charmm - WARNING - Please check /home/nvk/Dropbox/D3_challenge/ivan/test-docking/build_ligand_1/build-1/log.txt for further information.\n",
      "2017-06-19 16:45:48,777 - htmd.builder.charmm - INFO - Finished building.\n",
      "2017-06-19 16:45:52,661 - htmd.builder.solvate - INFO - Using water pdb file at: /home/nvk/anaconda3/envs/htmd/lib/python3.5/site-packages/htmd/builder/wat.pdb\n",
      "2017-06-19 16:45:53,383 - htmd.builder.solvate - INFO - Replicating 8 water segments, 2 by 2 by 2\n"
     ]
    },
    {
     "name": "stdout",
     "output_type": "stream",
     "text": [
      "Solvating: 100% (8/8) [############################################] eta 00:01 -\n"
     ]
    },
    {
     "name": "stderr",
     "output_type": "stream",
     "text": [
      "2017-06-19 16:46:03,231 - htmd.builder.solvate - INFO - After removing water molecules colliding with other molecules, 17345 water molecules were added to the system.\n",
      "2017-06-19 16:46:09,710 - htmd.builder.charmm - INFO - Writing out segments.\n",
      "2017-06-19 16:46:29,126 - htmd.builder.builder - INFO - 0 disulfide bonds were added\n",
      "2017-06-19 16:46:29,203 - htmd.builder.charmm - INFO - Starting the build.\n",
      "2017-06-19 16:46:29,593 - htmd.builder.charmm - WARNING - Failed to set coordinates for 17 atoms.\n",
      "2017-06-19 16:46:29,594 - htmd.builder.charmm - WARNING - Failed to guess coordinates for 4 atoms due to bad angles.\n",
      "2017-06-19 16:46:29,594 - htmd.builder.charmm - WARNING - Poorly guessed coordinates for 16 atoms.\n",
      "2017-06-19 16:46:29,595 - htmd.builder.charmm - WARNING - Please check /home/nvk/Dropbox/D3_challenge/ivan/test-docking/build_ligand_1/build-2/log.txt for further information.\n",
      "2017-06-19 16:46:29,595 - htmd.builder.charmm - INFO - Finished building.\n",
      "2017-06-19 16:46:31,997 - htmd.builder.ionize - INFO - Adding 0 anions + 9 cations for neutralizing and 0 ions for the given salt concentration.\n",
      "2017-06-19 16:46:32,265 - htmd.builder.ionize - INFO - Min distance of ions from molecule: 5A\n",
      "2017-06-19 16:46:32,266 - htmd.builder.ionize - INFO - Min distance between ions: 5A\n",
      "2017-06-19 16:46:32,266 - htmd.builder.ionize - INFO - Placing 9 ions.\n",
      "2017-06-19 16:46:41,135 - htmd.builder.charmm - INFO - Writing out segments.\n",
      "2017-06-19 16:47:02,304 - htmd.builder.charmm - INFO - Starting the build.\n",
      "2017-06-19 16:47:02,702 - htmd.builder.charmm - WARNING - Failed to set coordinates for 17 atoms.\n",
      "2017-06-19 16:47:02,703 - htmd.builder.charmm - WARNING - Failed to guess coordinates for 4 atoms due to bad angles.\n",
      "2017-06-19 16:47:02,703 - htmd.builder.charmm - WARNING - Poorly guessed coordinates for 16 atoms.\n",
      "2017-06-19 16:47:02,704 - htmd.builder.charmm - WARNING - Please check /home/nvk/Dropbox/D3_challenge/ivan/test-docking/build_ligand_1/build-2/log.txt for further information.\n",
      "2017-06-19 16:47:02,704 - htmd.builder.charmm - INFO - Finished building.\n"
     ]
    }
   ],
   "source": [
    "builds = []\n",
    "for i, ligand in enumerate(ligands):    \n",
    "    ligand.set('segid','L')\n",
    "    ligand.set('resname', \"MOL\") \n",
    "    \n",
    "    mol = Molecule(name='combo')\n",
    "    mol.append(prot)\n",
    "    mol.append(ligand)\n",
    "    mol.center()\n",
    "    \n",
    "    # distance + extra\n",
    "    D = maxDistance(mol, 'all') + 10\n",
    "    \n",
    "    # solvate\n",
    "    smol = solvate(mol, minmax=[[-D, -D, -D], [D, D, D]])\n",
    "    \n",
    "    # build system    \n",
    "    param = defaultParam()\n",
    "    param.append('data/param-{}/parameters/CGenFF_2b6/b3lyp-cc-pVDZ-water/'.format(i+1) + \"mol.prm\")\n",
    "\n",
    "    topo = defaultTopo()\n",
    "    topo.append('data/param-{}/parameters/CGenFF_2b6/b3lyp-cc-pVDZ-water/'.format(i+1) + \"mol.rtf\")\n",
    "    \n",
    "    builds.append(charmm.build(smol, param=param, topo=topo, outdir='./build-{}'.format(i+1)))"
   ]
  },
  {
   "cell_type": "code",
   "execution_count": null,
   "metadata": {},
   "outputs": [],
   "source": [
    "from htmd.protocols.equilibration_v2 import Equilibration\n",
    "\n",
    "md = Equilibration()\n",
    "md.runtime = 40\n",
    "md.timeunits = 'ns'\n",
    "md.temperature = 300\n",
    "md.useconstantratio = False\n",
    "\n",
    "local = LocalGPUQueue()\n",
    "\n",
    "for i, b in enumerate(builds):\n",
    "    md.write('./build-{}/'.format(i+1), './equil/{}/'.format(i+1))\n",
    "    local.submit('./equil/{}/'.format(i+1))\n",
    "                 \n",
    "local.wait()"
   ]
  },
  {
   "cell_type": "code",
   "execution_count": null,
   "metadata": {},
   "outputs": [],
   "source": [
    "from htmd.protocols.production_v4 import Production\n",
    "md = Production()\n",
    "md.runtime = 60\n",
    "md.timeunits = 'ns'\n",
    "md.temperature = 300\n",
    "md.acemd.bincoordinates = 'output.coor'\n",
    "md.acemd.extendedsystem = 'output.xsc'\n",
    "\n",
    "local = LocalGPUQueue()\n",
    "\n",
    "for i, b in enumerate(builds):\n",
    "    md.write('./equil/{}/'.format(i+1), './prod/{}/'.format(i+1))\n",
    "    local.submit('./prod/{}/'.format(i+1))\n",
    "                 \n",
    "local.wait()"
   ]
  },
  {
   "cell_type": "code",
   "execution_count": null,
   "metadata": {
    "collapsed": true
   },
   "outputs": [],
   "source": []
  }
 ],
 "metadata": {
  "kernelspec": {
   "display_name": "Python 3",
   "language": "python",
   "name": "python3"
  },
  "language_info": {
   "codemirror_mode": {
    "name": "ipython",
    "version": 3
   },
   "file_extension": ".py",
   "mimetype": "text/x-python",
   "name": "python",
   "nbconvert_exporter": "python",
   "pygments_lexer": "ipython3",
   "version": "3.5.3"
  }
 },
 "nbformat": 4,
 "nbformat_minor": 2
}
