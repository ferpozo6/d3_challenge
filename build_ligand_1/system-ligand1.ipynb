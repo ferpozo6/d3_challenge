{
 "cells": [
  {
   "cell_type": "code",
   "execution_count": 2,
   "metadata": {},
   "outputs": [],
   "source": [
    "from htmd.ui import *\n",
    "from htmd.molecule.util import maxDistance\n",
    "from htmd.builder.charmm import defaultParam, defaultTopo\n",
    "\n",
    "#htmd.config(viewer='ngl')"
   ]
  },
  {
   "cell_type": "code",
   "execution_count": 3,
   "metadata": {},
   "outputs": [
    {
     "name": "stderr",
     "output_type": "stream",
     "text": [
      "2019-08-08 13:04:12,651 - moleculekit.molecule - WARNING - Alternative atom locations detected. Only altloc A was kept. If you prefer to keep all use the keepaltloc=\"all\" option when reading the file.\n",
      "2019-08-08 13:04:12,654 - moleculekit.molecule - INFO - Removed 15 atoms. 2054 atoms remaining in the molecule.\n"
     ]
    }
   ],
   "source": [
    "prot = Molecule('data/FXR_APO_structure_D3R_GC2.pdb')\n",
    "prot.view()"
   ]
  },
  {
   "cell_type": "code",
   "execution_count": 4,
   "metadata": {},
   "outputs": [
    {
     "ename": "RuntimeError",
     "evalue": "Less than 4 values encountered in bonds definition in line \n",
     "output_type": "error",
     "traceback": [
      "\u001b[0;31m---------------------------------------------------------------------------\u001b[0m",
      "\u001b[0;31mRuntimeError\u001b[0m                              Traceback (most recent call last)",
      "\u001b[0;32m<ipython-input-4-50d5050b83a0>\u001b[0m in \u001b[0;36m<module>\u001b[0;34m\u001b[0m\n\u001b[1;32m      1\u001b[0m \u001b[0mligands\u001b[0m \u001b[0;34m=\u001b[0m \u001b[0;34m[\u001b[0m\u001b[0;34m]\u001b[0m\u001b[0;34m\u001b[0m\u001b[0;34m\u001b[0m\u001b[0m\n\u001b[0;32m----> 2\u001b[0;31m \u001b[0mligands\u001b[0m\u001b[0;34m.\u001b[0m\u001b[0mappend\u001b[0m\u001b[0;34m(\u001b[0m\u001b[0mMolecule\u001b[0m\u001b[0;34m(\u001b[0m\u001b[0;34m'data/param-1/parameters/CGenFF_2b6/b3lyp-cc-pVDZ-water/mol.mol2'\u001b[0m\u001b[0;34m)\u001b[0m\u001b[0;34m)\u001b[0m \u001b[0;31m# AutoDock VINA best pose\u001b[0m\u001b[0;34m\u001b[0m\u001b[0;34m\u001b[0m\u001b[0m\n\u001b[0m\u001b[1;32m      3\u001b[0m \u001b[0mligands\u001b[0m\u001b[0;34m.\u001b[0m\u001b[0mappend\u001b[0m\u001b[0;34m(\u001b[0m\u001b[0mMolecule\u001b[0m\u001b[0;34m(\u001b[0m\u001b[0;34m'data/param-2/parameters/CGenFF_2b6/b3lyp-cc-pVDZ-water/mol.mol2'\u001b[0m\u001b[0;34m)\u001b[0m\u001b[0;34m)\u001b[0m \u001b[0;31m# rDock best pose\u001b[0m\u001b[0;34m\u001b[0m\u001b[0;34m\u001b[0m\u001b[0m\n\u001b[1;32m      4\u001b[0m \u001b[0mligands\u001b[0m\u001b[0;34m.\u001b[0m\u001b[0mappend\u001b[0m\u001b[0;34m(\u001b[0m\u001b[0mMolecule\u001b[0m\u001b[0;34m(\u001b[0m\u001b[0;34m'data/param-3/parameters/CGenFF_2b6/b3lyp-cc-pVDZ-water/mol.mol2'\u001b[0m\u001b[0;34m)\u001b[0m\u001b[0;34m)\u001b[0m \u001b[0;31m# swissdock best pose\u001b[0m\u001b[0;34m\u001b[0m\u001b[0;34m\u001b[0m\u001b[0m\n",
      "\u001b[0;32m/local/fpozoc/miniconda3/envs/dock/lib/python3.6/site-packages/moleculekit/molecule.py\u001b[0m in \u001b[0;36m__init__\u001b[0;34m(self, filename, name, **kwargs)\u001b[0m\n\u001b[1;32m    239\u001b[0m \u001b[0;34m\u001b[0m\u001b[0m\n\u001b[1;32m    240\u001b[0m         \u001b[0;32mif\u001b[0m \u001b[0mfilename\u001b[0m \u001b[0;32mis\u001b[0m \u001b[0;32mnot\u001b[0m \u001b[0;32mNone\u001b[0m\u001b[0;34m:\u001b[0m\u001b[0;34m\u001b[0m\u001b[0;34m\u001b[0m\u001b[0m\n\u001b[0;32m--> 241\u001b[0;31m             \u001b[0mself\u001b[0m\u001b[0;34m.\u001b[0m\u001b[0mread\u001b[0m\u001b[0;34m(\u001b[0m\u001b[0mfilename\u001b[0m\u001b[0;34m,\u001b[0m \u001b[0;34m**\u001b[0m\u001b[0mkwargs\u001b[0m\u001b[0;34m)\u001b[0m\u001b[0;34m\u001b[0m\u001b[0;34m\u001b[0m\u001b[0m\n\u001b[0m\u001b[1;32m    242\u001b[0m \u001b[0;34m\u001b[0m\u001b[0m\n\u001b[1;32m    243\u001b[0m     \u001b[0;34m@\u001b[0m\u001b[0mstaticmethod\u001b[0m\u001b[0;34m\u001b[0m\u001b[0;34m\u001b[0m\u001b[0m\n",
      "\u001b[0;32m/local/fpozoc/miniconda3/envs/dock/lib/python3.6/site-packages/moleculekit/molecule.py\u001b[0m in \u001b[0;36mread\u001b[0;34m(self, filename, type, skip, frames, append, overwrite, keepaltloc, guess, guessNE, _logger, **kwargs)\u001b[0m\n\u001b[1;32m    953\u001b[0m             \u001b[0;32mfor\u001b[0m \u001b[0mrr\u001b[0m \u001b[0;32min\u001b[0m \u001b[0mreaders\u001b[0m\u001b[0;34m:\u001b[0m\u001b[0;34m\u001b[0m\u001b[0;34m\u001b[0m\u001b[0m\n\u001b[1;32m    954\u001b[0m                 \u001b[0;32mtry\u001b[0m\u001b[0;34m:\u001b[0m\u001b[0;34m\u001b[0m\u001b[0;34m\u001b[0m\u001b[0m\n\u001b[0;32m--> 955\u001b[0;31m                     \u001b[0mmol\u001b[0m \u001b[0;34m=\u001b[0m \u001b[0mrr\u001b[0m\u001b[0;34m(\u001b[0m\u001b[0mfname\u001b[0m\u001b[0;34m,\u001b[0m \u001b[0mframe\u001b[0m\u001b[0;34m=\u001b[0m\u001b[0mframe\u001b[0m\u001b[0;34m,\u001b[0m \u001b[0mtopoloc\u001b[0m\u001b[0;34m=\u001b[0m\u001b[0mtmppdb\u001b[0m\u001b[0;34m,\u001b[0m \u001b[0;34m**\u001b[0m\u001b[0mkwargs\u001b[0m\u001b[0;34m)\u001b[0m\u001b[0;34m\u001b[0m\u001b[0;34m\u001b[0m\u001b[0m\n\u001b[0m\u001b[1;32m    956\u001b[0m                 \u001b[0;32mexcept\u001b[0m \u001b[0mFormatError\u001b[0m\u001b[0;34m:\u001b[0m\u001b[0;34m\u001b[0m\u001b[0;34m\u001b[0m\u001b[0m\n\u001b[1;32m    957\u001b[0m                     \u001b[0;32mcontinue\u001b[0m\u001b[0;34m\u001b[0m\u001b[0;34m\u001b[0m\u001b[0m\n",
      "\u001b[0;32m/local/fpozoc/miniconda3/envs/dock/lib/python3.6/site-packages/moleculekit/readers.py\u001b[0m in \u001b[0;36mMOL2read\u001b[0;34m(filename, frame, topoloc, singlemol)\u001b[0m\n\u001b[1;32m    440\u001b[0m                 \u001b[0mpieces\u001b[0m \u001b[0;34m=\u001b[0m \u001b[0mline\u001b[0m\u001b[0;34m.\u001b[0m\u001b[0mstrip\u001b[0m\u001b[0;34m(\u001b[0m\u001b[0;34m)\u001b[0m\u001b[0;34m.\u001b[0m\u001b[0msplit\u001b[0m\u001b[0;34m(\u001b[0m\u001b[0;34m)\u001b[0m\u001b[0;34m\u001b[0m\u001b[0;34m\u001b[0m\u001b[0m\n\u001b[1;32m    441\u001b[0m                 \u001b[0;32mif\u001b[0m \u001b[0mlen\u001b[0m\u001b[0;34m(\u001b[0m\u001b[0mpieces\u001b[0m\u001b[0;34m)\u001b[0m \u001b[0;34m<\u001b[0m \u001b[0;36m4\u001b[0m\u001b[0;34m:\u001b[0m\u001b[0;34m\u001b[0m\u001b[0;34m\u001b[0m\u001b[0m\n\u001b[0;32m--> 442\u001b[0;31m                     \u001b[0;32mraise\u001b[0m \u001b[0mRuntimeError\u001b[0m\u001b[0;34m(\u001b[0m\u001b[0;34m'Less than 4 values encountered in bonds definition in line {}'\u001b[0m\u001b[0;34m.\u001b[0m\u001b[0mformat\u001b[0m\u001b[0;34m(\u001b[0m\u001b[0mline\u001b[0m\u001b[0;34m)\u001b[0m\u001b[0;34m)\u001b[0m\u001b[0;34m\u001b[0m\u001b[0;34m\u001b[0m\u001b[0m\n\u001b[0m\u001b[1;32m    443\u001b[0m                 \u001b[0mtopo\u001b[0m\u001b[0;34m.\u001b[0m\u001b[0mbonds\u001b[0m\u001b[0;34m.\u001b[0m\u001b[0mappend\u001b[0m\u001b[0;34m(\u001b[0m\u001b[0;34m[\u001b[0m\u001b[0mint\u001b[0m\u001b[0;34m(\u001b[0m\u001b[0mpieces\u001b[0m\u001b[0;34m[\u001b[0m\u001b[0;36m1\u001b[0m\u001b[0;34m]\u001b[0m\u001b[0;34m)\u001b[0m \u001b[0;34m-\u001b[0m \u001b[0;36m1\u001b[0m\u001b[0;34m,\u001b[0m \u001b[0mint\u001b[0m\u001b[0;34m(\u001b[0m\u001b[0mpieces\u001b[0m\u001b[0;34m[\u001b[0m\u001b[0;36m2\u001b[0m\u001b[0;34m]\u001b[0m\u001b[0;34m)\u001b[0m \u001b[0;34m-\u001b[0m \u001b[0;36m1\u001b[0m\u001b[0;34m]\u001b[0m\u001b[0;34m)\u001b[0m\u001b[0;34m\u001b[0m\u001b[0;34m\u001b[0m\u001b[0m\n\u001b[1;32m    444\u001b[0m                 \u001b[0mtopo\u001b[0m\u001b[0;34m.\u001b[0m\u001b[0mbondtype\u001b[0m\u001b[0;34m.\u001b[0m\u001b[0mappend\u001b[0m\u001b[0;34m(\u001b[0m\u001b[0mpieces\u001b[0m\u001b[0;34m[\u001b[0m\u001b[0;36m3\u001b[0m\u001b[0;34m]\u001b[0m\u001b[0;34m)\u001b[0m\u001b[0;34m\u001b[0m\u001b[0;34m\u001b[0m\u001b[0m\n",
      "\u001b[0;31mRuntimeError\u001b[0m: Less than 4 values encountered in bonds definition in line \n"
     ]
    }
   ],
   "source": [
    "ligands = []\n",
    "ligands.append(Molecule('data/param-1/parameters/CGenFF_2b6/b3lyp-cc-pVDZ-water/mol.mol2')) # AutoDock VINA best pose\n",
    "ligands.append(Molecule('data/param-2/parameters/CGenFF_2b6/b3lyp-cc-pVDZ-water/mol.mol2')) # rDock best pose\n",
    "ligands.append(Molecule('data/param-3/parameters/CGenFF_2b6/b3lyp-cc-pVDZ-water/mol.mol2')) # swissdock best pose"
   ]
  },
  {
   "cell_type": "code",
   "execution_count": 4,
   "metadata": {},
   "outputs": [
    {
     "name": "stderr",
     "output_type": "stream",
     "text": [
      "2017-06-20 00:31:41,446 - propka - INFO - No pdbfile provided\n",
      "2017-06-20 00:31:50,495 - htmd.builder.preparationdata - INFO - The following residues are in a non-standard state: HIS   258  A (HID), HIS   298  A (HID), HIS   317  A (HIP), HIS   348  A (HID), HIS   426  A (HID), HIS   433  A (HIE), HIS   449  A (HID), HIS   450  A (HIE), HIS   451  A (HID), HIS   746  B (HID)\n",
      "2017-06-20 00:31:50,497 - htmd.builder.preparationdata - WARNING - Dubious protonation state: the pKa of 8 residues is within 1.0 units of pH 7.0.\n",
      "2017-06-20 00:31:50,498 - htmd.builder.preparationdata - WARNING - Dubious protonation state:    HIS   258  A (pKa= 6.38)\n",
      "2017-06-20 00:31:50,499 - htmd.builder.preparationdata - WARNING - Dubious protonation state:    HIS   317  A (pKa= 7.61)\n",
      "2017-06-20 00:31:50,499 - htmd.builder.preparationdata - WARNING - Dubious protonation state:    HIS   348  A (pKa= 6.08)\n",
      "2017-06-20 00:31:50,500 - htmd.builder.preparationdata - WARNING - Dubious protonation state:    HIS   426  A (pKa= 6.86)\n",
      "2017-06-20 00:31:50,501 - htmd.builder.preparationdata - WARNING - Dubious protonation state:    HIS   433  A (pKa= 6.71)\n",
      "2017-06-20 00:31:50,501 - htmd.builder.preparationdata - WARNING - Dubious protonation state:    HIS   449  A (pKa= 6.46)\n",
      "2017-06-20 00:31:50,502 - htmd.builder.preparationdata - WARNING - Dubious protonation state:    N+    247T A (pKa= 7.88)\n",
      "2017-06-20 00:31:50,502 - htmd.builder.preparationdata - WARNING - Dubious protonation state:    N+    744T B (pKa= 7.51)\n"
     ]
    }
   ],
   "source": [
    "prot = proteinPrepare(prot)\n",
    "prot.set('segid', 'P', sel='protein')\n",
    "prot.set('segid', 'W', sel='water')"
   ]
  },
  {
   "cell_type": "code",
   "execution_count": 5,
   "metadata": {},
   "outputs": [
    {
     "name": "stderr",
     "output_type": "stream",
     "text": [
      "2017-06-20 00:31:50,645 - htmd.builder.solvate - INFO - Using water pdb file at: /home/nvk/anaconda3/envs/htmd/lib/python3.5/site-packages/htmd/builder/wat.pdb\n",
      "2017-06-20 00:31:51,341 - htmd.builder.solvate - INFO - Replicating 8 water segments, 2 by 2 by 2\n"
     ]
    },
    {
     "name": "stdout",
     "output_type": "stream",
     "text": [
      "Solvating: 100% (8/8) [############################################] eta 00:01 /\n"
     ]
    },
    {
     "name": "stderr",
     "output_type": "stream",
     "text": [
      "2017-06-20 00:32:01,315 - htmd.builder.solvate - INFO - After removing water molecules colliding with other molecules, 17344 water molecules were added to the system.\n",
      "2017-06-20 00:32:07,655 - htmd.builder.charmm - INFO - Writing out segments.\n",
      "2017-06-20 00:32:26,840 - htmd.builder.builder - INFO - 0 disulfide bonds were added\n",
      "2017-06-20 00:32:26,926 - htmd.builder.charmm - INFO - Starting the build.\n",
      "2017-06-20 00:32:27,351 - htmd.builder.charmm - WARNING - Failed to set coordinates for 17 atoms.\n",
      "2017-06-20 00:32:27,351 - htmd.builder.charmm - WARNING - Failed to guess coordinates for 4 atoms due to bad angles.\n",
      "2017-06-20 00:32:27,352 - htmd.builder.charmm - WARNING - Poorly guessed coordinates for 16 atoms.\n",
      "2017-06-20 00:32:27,352 - htmd.builder.charmm - WARNING - Please check /home/nvk/Dropbox/D3_challenge/ivan/test-docking/build_ligand_1/build-1/log.txt for further information.\n",
      "2017-06-20 00:32:27,353 - htmd.builder.charmm - INFO - Finished building.\n",
      "2017-06-20 00:32:29,682 - htmd.builder.ionize - INFO - Adding 0 anions + 9 cations for neutralizing and 0 ions for the given salt concentration.\n",
      "2017-06-20 00:32:29,955 - htmd.builder.ionize - INFO - Min distance of ions from molecule: 5A\n",
      "2017-06-20 00:32:29,956 - htmd.builder.ionize - INFO - Min distance between ions: 5A\n",
      "2017-06-20 00:32:29,956 - htmd.builder.ionize - INFO - Placing 9 ions.\n",
      "2017-06-20 00:32:38,886 - htmd.builder.charmm - INFO - Writing out segments.\n",
      "2017-06-20 00:33:00,015 - htmd.builder.charmm - INFO - Starting the build.\n",
      "2017-06-20 00:33:00,410 - htmd.builder.charmm - WARNING - Failed to set coordinates for 17 atoms.\n",
      "2017-06-20 00:33:00,411 - htmd.builder.charmm - WARNING - Failed to guess coordinates for 4 atoms due to bad angles.\n",
      "2017-06-20 00:33:00,412 - htmd.builder.charmm - WARNING - Poorly guessed coordinates for 16 atoms.\n",
      "2017-06-20 00:33:00,414 - htmd.builder.charmm - WARNING - Please check /home/nvk/Dropbox/D3_challenge/ivan/test-docking/build_ligand_1/build-1/log.txt for further information.\n",
      "2017-06-20 00:33:00,414 - htmd.builder.charmm - INFO - Finished building.\n",
      "2017-06-20 00:33:04,281 - htmd.builder.solvate - INFO - Using water pdb file at: /home/nvk/anaconda3/envs/htmd/lib/python3.5/site-packages/htmd/builder/wat.pdb\n",
      "2017-06-20 00:33:04,994 - htmd.builder.solvate - INFO - Replicating 8 water segments, 2 by 2 by 2\n"
     ]
    },
    {
     "name": "stdout",
     "output_type": "stream",
     "text": [
      "Solvating: 100% (8/8) [############################################] eta 00:01 -\n"
     ]
    },
    {
     "name": "stderr",
     "output_type": "stream",
     "text": [
      "2017-06-20 00:33:14,839 - htmd.builder.solvate - INFO - After removing water molecules colliding with other molecules, 17345 water molecules were added to the system.\n",
      "2017-06-20 00:33:21,300 - htmd.builder.charmm - INFO - Writing out segments.\n",
      "2017-06-20 00:33:40,669 - htmd.builder.builder - INFO - 0 disulfide bonds were added\n",
      "2017-06-20 00:33:40,749 - htmd.builder.charmm - INFO - Starting the build.\n",
      "2017-06-20 00:33:41,134 - htmd.builder.charmm - WARNING - Failed to set coordinates for 17 atoms.\n",
      "2017-06-20 00:33:41,135 - htmd.builder.charmm - WARNING - Failed to guess coordinates for 4 atoms due to bad angles.\n",
      "2017-06-20 00:33:41,136 - htmd.builder.charmm - WARNING - Poorly guessed coordinates for 16 atoms.\n",
      "2017-06-20 00:33:41,136 - htmd.builder.charmm - WARNING - Please check /home/nvk/Dropbox/D3_challenge/ivan/test-docking/build_ligand_1/build-2/log.txt for further information.\n",
      "2017-06-20 00:33:41,137 - htmd.builder.charmm - INFO - Finished building.\n",
      "2017-06-20 00:33:43,534 - htmd.builder.ionize - INFO - Adding 0 anions + 9 cations for neutralizing and 0 ions for the given salt concentration.\n",
      "2017-06-20 00:33:43,804 - htmd.builder.ionize - INFO - Min distance of ions from molecule: 5A\n",
      "2017-06-20 00:33:43,805 - htmd.builder.ionize - INFO - Min distance between ions: 5A\n",
      "2017-06-20 00:33:43,805 - htmd.builder.ionize - INFO - Placing 9 ions.\n",
      "2017-06-20 00:33:52,661 - htmd.builder.charmm - INFO - Writing out segments.\n",
      "2017-06-20 00:34:13,898 - htmd.builder.charmm - INFO - Starting the build.\n",
      "2017-06-20 00:34:14,285 - htmd.builder.charmm - WARNING - Failed to set coordinates for 17 atoms.\n",
      "2017-06-20 00:34:14,286 - htmd.builder.charmm - WARNING - Failed to guess coordinates for 4 atoms due to bad angles.\n",
      "2017-06-20 00:34:14,287 - htmd.builder.charmm - WARNING - Poorly guessed coordinates for 16 atoms.\n",
      "2017-06-20 00:34:14,287 - htmd.builder.charmm - WARNING - Please check /home/nvk/Dropbox/D3_challenge/ivan/test-docking/build_ligand_1/build-2/log.txt for further information.\n",
      "2017-06-20 00:34:14,288 - htmd.builder.charmm - INFO - Finished building.\n",
      "2017-06-20 00:34:18,193 - htmd.builder.solvate - INFO - Using water pdb file at: /home/nvk/anaconda3/envs/htmd/lib/python3.5/site-packages/htmd/builder/wat.pdb\n",
      "2017-06-20 00:34:18,912 - htmd.builder.solvate - INFO - Replicating 8 water segments, 2 by 2 by 2\n"
     ]
    },
    {
     "name": "stdout",
     "output_type": "stream",
     "text": [
      "Solvating: 100% (8/8) [############################################] eta 00:01 \\\n"
     ]
    },
    {
     "name": "stderr",
     "output_type": "stream",
     "text": [
      "2017-06-20 00:34:28,909 - htmd.builder.solvate - INFO - After removing water molecules colliding with other molecules, 17272 water molecules were added to the system.\n",
      "2017-06-20 00:34:35,375 - htmd.builder.charmm - INFO - Writing out segments.\n",
      "2017-06-20 00:34:54,817 - htmd.builder.builder - INFO - 0 disulfide bonds were added\n",
      "2017-06-20 00:34:54,896 - htmd.builder.charmm - INFO - Starting the build.\n",
      "2017-06-20 00:34:55,292 - htmd.builder.charmm - WARNING - Failed to set coordinates for 17 atoms.\n",
      "2017-06-20 00:34:55,293 - htmd.builder.charmm - WARNING - Failed to guess coordinates for 4 atoms due to bad angles.\n",
      "2017-06-20 00:34:55,294 - htmd.builder.charmm - WARNING - Poorly guessed coordinates for 16 atoms.\n",
      "2017-06-20 00:34:55,294 - htmd.builder.charmm - WARNING - Please check /home/nvk/Dropbox/D3_challenge/ivan/test-docking/build_ligand_1/build-3/log.txt for further information.\n",
      "2017-06-20 00:34:55,295 - htmd.builder.charmm - INFO - Finished building.\n",
      "2017-06-20 00:34:57,727 - htmd.builder.ionize - INFO - Adding 0 anions + 9 cations for neutralizing and 0 ions for the given salt concentration.\n",
      "2017-06-20 00:34:57,997 - htmd.builder.ionize - INFO - Min distance of ions from molecule: 5A\n",
      "2017-06-20 00:34:57,998 - htmd.builder.ionize - INFO - Min distance between ions: 5A\n",
      "2017-06-20 00:34:57,998 - htmd.builder.ionize - INFO - Placing 9 ions.\n",
      "2017-06-20 00:35:06,798 - htmd.builder.charmm - INFO - Writing out segments.\n",
      "2017-06-20 00:35:27,689 - htmd.builder.charmm - INFO - Starting the build.\n",
      "2017-06-20 00:35:28,077 - htmd.builder.charmm - WARNING - Failed to set coordinates for 17 atoms.\n",
      "2017-06-20 00:35:28,077 - htmd.builder.charmm - WARNING - Failed to guess coordinates for 4 atoms due to bad angles.\n",
      "2017-06-20 00:35:28,078 - htmd.builder.charmm - WARNING - Poorly guessed coordinates for 16 atoms.\n",
      "2017-06-20 00:35:28,078 - htmd.builder.charmm - WARNING - Please check /home/nvk/Dropbox/D3_challenge/ivan/test-docking/build_ligand_1/build-3/log.txt for further information.\n",
      "2017-06-20 00:35:28,079 - htmd.builder.charmm - INFO - Finished building.\n"
     ]
    }
   ],
   "source": [
    "builds = []\n",
    "for i, ligand in enumerate(ligands):    \n",
    "    ligand.set('segid','L')\n",
    "    ligand.set('resname', \"MOL\") \n",
    "    \n",
    "    mol = Molecule(name='combo')\n",
    "    mol.append(prot)\n",
    "    mol.append(ligand)\n",
    "    mol.center()\n",
    "    \n",
    "    # distance + extra\n",
    "    D = maxDistance(mol, 'all') + 10\n",
    "    \n",
    "    # solvate\n",
    "    smol = solvate(mol, minmax=[[-D, -D, -D], [D, D, D]])\n",
    "    \n",
    "    # build system    \n",
    "    param = defaultParam()\n",
    "    param.append('data/param-{}/parameters/CGenFF_2b6/b3lyp-cc-pVDZ-water/'.format(i+1) + \"mol.prm\")\n",
    "\n",
    "    topo = defaultTopo()\n",
    "    topo.append('data/param-{}/parameters/CGenFF_2b6/b3lyp-cc-pVDZ-water/'.format(i+1) + \"mol.rtf\")\n",
    "    \n",
    "    builds.append(charmm.build(smol, param=param, topo=topo, outdir='./build-{}'.format(i+1)))"
   ]
  },
  {
   "cell_type": "code",
   "execution_count": 6,
   "metadata": {},
   "outputs": [
    {
     "name": "stderr",
     "output_type": "stream",
     "text": [
      "2017-06-20 00:36:03,371 - htmd.queues.localqueue - INFO - Using GPU devices 0\n",
      "2017-06-20 00:36:03,373 - htmd.queues.localqueue - INFO - Queueing /home/nvk/Dropbox/D3_challenge/ivan/test-docking/build_ligand_1/equil/1\n",
      "2017-06-20 00:36:03,374 - htmd.queues.localqueue - INFO - Running /home/nvk/Dropbox/D3_challenge/ivan/test-docking/build_ligand_1/equil/1 on GPU device 0\n",
      "2017-06-20 00:36:08,402 - htmd.queues.localqueue - INFO - Queueing /home/nvk/Dropbox/D3_challenge/ivan/test-docking/build_ligand_1/equil/2\n",
      "2017-06-20 00:36:13,313 - htmd.queues.localqueue - INFO - Queueing /home/nvk/Dropbox/D3_challenge/ivan/test-docking/build_ligand_1/equil/3\n",
      "2017-06-20 16:11:30,846 - htmd.queues.localqueue - INFO - Completed /home/nvk/Dropbox/D3_challenge/ivan/test-docking/build_ligand_1/equil/1\n",
      "2017-06-20 16:11:30,847 - htmd.queues.localqueue - INFO - Running /home/nvk/Dropbox/D3_challenge/ivan/test-docking/build_ligand_1/equil/2 on GPU device 0\n",
      "2017-06-20 16:11:31,982 - htmd.queues.localqueue - INFO - Error in simulation /home/nvk/Dropbox/D3_challenge/ivan/test-docking/build_ligand_1/equil/2. Command '/home/nvk/Dropbox/D3_challenge/ivan/test-docking/build_ligand_1/equil/2/job.sh' returned non-zero exit status 158\n",
      "2017-06-20 16:11:31,983 - htmd.queues.localqueue - INFO - Running /home/nvk/Dropbox/D3_challenge/ivan/test-docking/build_ligand_1/equil/3 on GPU device 0\n",
      "2017-06-20 16:11:33,123 - htmd.queues.localqueue - INFO - Error in simulation /home/nvk/Dropbox/D3_challenge/ivan/test-docking/build_ligand_1/equil/3. Command '/home/nvk/Dropbox/D3_challenge/ivan/test-docking/build_ligand_1/equil/3/job.sh' returned non-zero exit status 158\n"
     ]
    }
   ],
   "source": [
    "from htmd.protocols.equilibration_v2 import Equilibration\n",
    "\n",
    "md = Equilibration()\n",
    "md.runtime = 40\n",
    "md.timeunits = 'ns'\n",
    "md.temperature = 300\n",
    "md.useconstantratio = False\n",
    "\n",
    "local = LocalGPUQueue()\n",
    "\n",
    "for i, b in enumerate(builds):\n",
    "    md.write('./build-{}/'.format(i+1), './equil/{}/'.format(i+1))\n",
    "    local.submit('./equil/{}/'.format(i+1))\n",
    "                 \n",
    "local.wait()"
   ]
  },
  {
   "cell_type": "code",
   "execution_count": null,
   "metadata": {
    "collapsed": true,
    "jupyter": {
     "outputs_hidden": true
    }
   },
   "outputs": [],
   "source": [
    "from htmd.protocols.production_v4 import Production\n",
    "md = Production()\n",
    "md.runtime = 60\n",
    "md.timeunits = 'ns'\n",
    "md.temperature = 300\n",
    "md.acemd.bincoordinates = 'output.coor'\n",
    "md.acemd.extendedsystem = 'output.xsc'\n",
    "\n",
    "local = LocalGPUQueue()\n",
    "\n",
    "for i, b in enumerate(builds):\n",
    "    md.write('./equil/{}/'.format(i+1), './prod/{}/'.format(i+1))\n",
    "    local.submit('./prod/{}/'.format(i+1))\n",
    "                 \n",
    "local.wait()"
   ]
  },
  {
   "cell_type": "code",
   "execution_count": null,
   "metadata": {
    "collapsed": true,
    "jupyter": {
     "outputs_hidden": true
    }
   },
   "outputs": [],
   "source": []
  }
 ],
 "metadata": {
  "kernelspec": {
   "display_name": "Python 3",
   "language": "python",
   "name": "python3"
  },
  "language_info": {
   "codemirror_mode": {
    "name": "ipython",
    "version": 3
   },
   "file_extension": ".py",
   "mimetype": "text/x-python",
   "name": "python",
   "nbconvert_exporter": "python",
   "pygments_lexer": "ipython3",
   "version": "3.6.9"
  }
 },
 "nbformat": 4,
 "nbformat_minor": 4
}
